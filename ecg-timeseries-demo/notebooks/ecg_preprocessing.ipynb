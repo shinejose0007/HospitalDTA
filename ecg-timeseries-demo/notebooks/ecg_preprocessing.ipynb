{
 "cells": [
  {
   "cell_type": "code",
   "execution_count": null,
   "id": "67d6fd79",
   "metadata": {},
   "outputs": [],
   "source": [
    "import neurokit2 as nk\n",
    "import matplotlib.pyplot as plt"
   ]
  },
  {
   "cell_type": "code",
   "execution_count": null,
   "id": "89f25275",
   "metadata": {},
   "outputs": [],
   "source": [
    "# Generate a synthetic ECG signal for demo (replace with PhysioNet later)\n",
    "signal = nk.ecg_simulate(duration=10, sampling_rate=250)\n",
    "plt.plot(signal[:1000])\n",
    "plt.title('Synthetic ECG segment')\n",
    "plt.show()"
   ]
  },
  {
   "cell_type": "code",
   "execution_count": null,
   "id": "6fb60ea1",
   "metadata": {},
   "outputs": [],
   "source": [
    "# R-peak detection\n",
    "ecgsignals, info = nk.ecg_process(signal, sampling_rate=250)\n",
    "report = nk.ecg_plot(ecgsignals, sampling_rate=250)\n",
    "report"
   ]
  },
  {
   "cell_type": "code",
   "execution_count": null,
   "id": "f0d57728",
   "metadata": {},
   "outputs": [],
   "source": [
    "# Heart rate analysis\n",
    "hrv = nk.hrv_time(info['ECG_R_Peaks'], sampling_rate=250)\n",
    "hrv"
   ]
  }
 ],
 "metadata": {},
 "nbformat": 4,
 "nbformat_minor": 5
}
