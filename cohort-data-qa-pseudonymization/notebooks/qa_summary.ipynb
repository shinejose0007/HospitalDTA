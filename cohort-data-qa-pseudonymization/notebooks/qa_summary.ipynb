{
 "cells": [
  {
   "cell_type": "code",
   "execution_count": null,
   "id": "b52fd0d5",
   "metadata": {},
   "outputs": [],
   "source": [
    "import pandas as pd\n",
    "from src import qa_checks"
   ]
  },
  {
   "cell_type": "code",
   "execution_count": null,
   "id": "98cca0cc",
   "metadata": {},
   "outputs": [],
   "source": [
    "# Load harmonized or raw cohort data\n",
    "df = pd.read_csv('data/cohort_a.csv')\n",
    "df.head()"
   ]
  },
  {
   "cell_type": "code",
   "execution_count": null,
   "id": "55e2e2d5",
   "metadata": {},
   "outputs": [],
   "source": [
    "# Run QA checks\n",
    "report = qa_checks.run_checks(df)\n",
    "report"
   ]
  },
  {
   "cell_type": "code",
   "execution_count": null,
   "id": "b1c0c9b4",
   "metadata": {},
   "outputs": [],
   "source": [
    "# Visualize missing values\n",
    "import matplotlib.pyplot as plt\n",
    "missing = df.isna().sum()\n",
    "missing.plot(kind='bar')\n",
    "plt.title('Missing values per column')\n",
    "plt.show()"
   ]
  },
  {
   "cell_type": "code",
   "execution_count": null,
   "id": "6cb4e211",
   "metadata": {},
   "outputs": [],
   "source": [
    "# Example: apply pseudonymization\n",
    "from src.pseudonymize import pseudonymize_id\n",
    "df['pseud_id'] = df['id'].apply(lambda x: pseudonymize_id(x))\n",
    "df[['id','pseud_id']].head()"
   ]
  }
 ],
 "metadata": {},
 "nbformat": 4,
 "nbformat_minor": 5
}
